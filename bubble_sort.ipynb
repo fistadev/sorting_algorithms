{
 "cells": [
  {
   "cell_type": "markdown",
   "source": [
    "# Bubble Sort"
   ],
   "metadata": {}
  },
  {
   "cell_type": "markdown",
   "source": [
    "Worst and Average Case Time Complexity: O(n*n). Worst case occurs when array is reverse sorted.\n",
    "Best Case Time Complexity: O(n). Best case occurs when array is already sorted.\n",
    "Auxiliary Space: O(1)\n",
    "Boundary Cases: Bubble sort takes minimum time (Order of n) when elements are already sorted.\n",
    "Sorting In Place: Yes\n",
    "Stable: Yes\n",
    "Due to its simplicity, bubble sort is often used to introduce the concept of a sorting algorithm. \n",
    "In computer graphics it is popular for its capability to detect a very small error (like swap of just two elements) in almost-sorted arrays and fix it with just linear complexity (2n). For example, it is used in a polygon filling algorithm, where bounding lines are sorted by their x coordinate at a specific scan line (a line parallel to x axis) and with incrementing y their order changes (two elements are swapped) only at intersections of two lines"
   ],
   "metadata": {}
  },
  {
   "cell_type": "code",
   "execution_count": 7,
   "source": [
    "import numpy as np\n",
    "from time import time"
   ],
   "outputs": [],
   "metadata": {}
  },
  {
   "cell_type": "code",
   "execution_count": 1,
   "source": [
    "def bubbleSort(arr):\n",
    "    n = len(arr)\n",
    "  \n",
    "    # Traverse through all array elements\n",
    "    for i in range(n):\n",
    "  \n",
    "        # Last i elements are already in place\n",
    "        for j in range(0, n-i-1):\n",
    "  \n",
    "            # traverse the array from 0 to n-i-1\n",
    "            # Swap if the element found is greater\n",
    "            # than the next element\n",
    "            if arr[j] > arr[j+1] :\n",
    "                arr[j], arr[j+1] = arr[j+1], arr[j]\n",
    "  "
   ],
   "outputs": [],
   "metadata": {}
  },
  {
   "cell_type": "code",
   "execution_count": 5,
   "source": [
    "sample_list = [5,1,3,8,4,7,2,9,0,6]\n",
    "np.random.seed(0)\n",
    "big_list = np.random.permutation(1000)"
   ],
   "outputs": [],
   "metadata": {}
  },
  {
   "cell_type": "code",
   "execution_count": 6,
   "source": [
    "bubbleSort(sample_list)\n",
    "print(\"BubbleSort array\")\n",
    "print(sample_list)\n"
   ],
   "outputs": [
    {
     "output_type": "stream",
     "name": "stdout",
     "text": [
      "BubbleSort array\n",
      "[0, 1, 2, 3, 4, 5, 6, 7, 8, 9]\n"
     ]
    }
   ],
   "metadata": {}
  },
  {
   "cell_type": "code",
   "execution_count": 8,
   "source": [
    "start = time()\n",
    "bubbleSort(big_list)\n",
    "end = time()\n",
    "\n",
    "print(\"Bubble Sort took: \", end-start, \"s\")"
   ],
   "outputs": [
    {
     "output_type": "stream",
     "name": "stdout",
     "text": [
      "Bubble Sort took:  0.6662271022796631 s\n"
     ]
    }
   ],
   "metadata": {}
  }
 ],
 "metadata": {
  "orig_nbformat": 4,
  "language_info": {
   "name": "python",
   "version": "3.8.8",
   "mimetype": "text/x-python",
   "codemirror_mode": {
    "name": "ipython",
    "version": 3
   },
   "pygments_lexer": "ipython3",
   "nbconvert_exporter": "python",
   "file_extension": ".py"
  },
  "kernelspec": {
   "name": "python3",
   "display_name": "Python 3.8.8 64-bit ('machine_learning': conda)"
  },
  "interpreter": {
   "hash": "2d78e359ff02d0c79ca305c8815f63c63e3b9beac7f2ccf04f89f33a94ce9080"
  }
 },
 "nbformat": 4,
 "nbformat_minor": 2
}