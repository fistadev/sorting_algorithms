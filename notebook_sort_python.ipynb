{
 "cells": [
  {
   "cell_type": "code",
   "source": [
    "from time import time\n",
    "import numpy as np\n",
    "\n",
    "simple_list = [5,1,3,8,4,7,2,9,0,6]\n",
    "np.random.seed(0)\n",
    "big_list = np.random.permutation(1000)\n",
    "# big_list = np.random.permutation(100000)\n",
    "first = simple_list[0]\n",
    "\n",
    "def strive_sort(l):\n",
    "    n = len(l)\n",
    "    for i in range(n):\n",
    "        for j in range(n):\n",
    "            if l[i] <= l[j]:\n",
    "                \n",
    "                l[i], l[j] = l[j], l[i]\n",
    "            \n",
    "    return l\n",
    "\n",
    "        \n",
    "def buble_sort(l):  \n",
    "    n = len(l)       \n",
    "    for i in range(n):\n",
    "        for j in range(0, n-i-1):\n",
    "            if l[j+1] < l[j]:\n",
    "                \n",
    "                l[j], l[j+1] = l[j+1], l[j]\n",
    "    return l\n",
    "\n",
    "def partition( l, low, high):\n",
    "    \n",
    "    i = low -1\n",
    "    pivot = l[high]\n",
    "    \n",
    "    for j in range( low, high):\n",
    "        \n",
    "        if l[j] < pivot:\n",
    "            i += 1\n",
    "            l[i], l[j] = l[j], l[i]   \n",
    "    l[i+1], l[high] = l[high], l[i+1]\n",
    "    return i+1\n",
    "        \n",
    "def quick_sort(left, right, l):\n",
    "    \n",
    "    if left < right:\n",
    "        pivot = partition(l,left, right)\n",
    "        quick_sort( left, pivot-1, l)\n",
    "        quick_sort( pivot+1, right, l)\n",
    "\n",
    "        \n",
    "    \n",
    "\n",
    "'''\n",
    "start = time()\n",
    "strive_sort(big_list)\n",
    "end = time()\n",
    "\n",
    "print(\"Strive took: \", end-start, \"s\")\n",
    "\n",
    "start = time()\n",
    "buble_sort(big_list)\n",
    "end = time()\n",
    "\n",
    "print(\"buble took: \", end-start, \"s\")\n",
    "\n",
    "\n",
    "start = time()\n",
    "quick_sort(0, len(big_list)-1,big_list)\n",
    "print(big_list)\n",
    "end = time()\n",
    "\n",
    "print(\"quick took: \", end-start, \"s\")\n",
    "'''"
   ],
   "metadata": {
    "tags": [],
    "cell_id": "00001-59b1099a-2c0e-45ad-8cba-e6b94df0a225",
    "deepnote_to_be_reexecuted": false,
    "source_hash": "b27f8904",
    "execution_start": 1620808572263,
    "execution_millis": 45,
    "deepnote_cell_type": "code"
   },
   "outputs": [
    {
     "output_type": "execute_result",
     "data": {
      "text/plain": [
       "'\\nstart = time()\\nstrive_sort(big_list)\\nend = time()\\n\\nprint(\"Strive took: \", end-start, \"s\")\\n\\nstart = time()\\nbuble_sort(big_list)\\nend = time()\\n\\nprint(\"buble took: \", end-start, \"s\")\\n\\n\\nstart = time()\\nquick_sort(0, len(big_list)-1,big_list)\\nprint(big_list)\\nend = time()\\n\\nprint(\"quick took: \", end-start, \"s\")\\n'"
      ]
     },
     "metadata": {},
     "execution_count": 1
    }
   ],
   "execution_count": 1
  },
  {
   "cell_type": "code",
   "source": [
    "def mergeSort(arr):\n",
    "    if len(arr) > 1:\n",
    "\n",
    "        r = len(arr)//2\n",
    "        left = arr[:r]\n",
    "        right = arr[r:]\n",
    "\n",
    "        mergeSort(left)\n",
    "        mergeSort(right)\n",
    "\n",
    "        i = j = k = 0\n",
    "\n",
    "       \n",
    "        while i < len(left) and j < len(right):\n",
    "            if left[i] < right[j]:\n",
    "                arr[k] = left[i]\n",
    "                i += 1\n",
    "            else:\n",
    "                arr[k] = right[j]\n",
    "                j += 1\n",
    "            k += 1\n",
    "\n",
    "       \n",
    "        while i < len(left):\n",
    "            arr[k] = left[i]\n",
    "            i += 1\n",
    "            k += 1\n",
    "\n",
    "        while j < len(right):\n",
    "            arr[k] = right[j]\n",
    "            j += 1\n",
    "            k += 1\n",
    "\n",
    "\n",
    "def display(arr):\n",
    "    for i in range(len(arr)):\n",
    "        print(arr[i], end=\" \")\n",
    "    print()\n",
    "        \n",
    "    \n"
   ],
   "metadata": {
    "tags": [],
    "cell_id": "00007-29976c98-0f88-4c2c-a4f3-d268344ffb1f",
    "deepnote_to_be_reexecuted": false,
    "source_hash": "bbd06f6b",
    "execution_start": 1620808531190,
    "execution_millis": 18,
    "deepnote_cell_type": "code"
   },
   "outputs": [],
   "execution_count": 4
  },
  {
   "cell_type": "code",
   "source": [
    "if __name__ == '__main__':\n",
    "    sample_list = [5,1,3,8,4,7,2,9,0,6]\n",
    "    \n",
    "    print(\"Original array\")\n",
    "    display(sample_list)\n",
    "    \n",
    "    mergeSort(sample_list)\n",
    "\n",
    "    print(\"MergeSort array\")\n",
    "    display(sample_list)\n",
    "\n",
    "\n",
    "    # quick_sort(sample_list)\n",
    "    # print(\"quickSort array\")\n",
    "    # display(sample_list)\n",
    "\n",
    "\n",
    "    # buble_sort(sample_list)\n",
    "    # print(\"BubbleSort array\")\n",
    "    # display(sample_list)\n",
    "\n",
    "    # strive_sort(sample_list)\n",
    "    # print(\"striveSort array\")\n",
    "    # display(sample_list)"
   ],
   "metadata": {
    "tags": [],
    "cell_id": "00004-8fc2b38e-0c97-4c98-b37b-b81487b2ac92",
    "deepnote_to_be_reexecuted": false,
    "source_hash": "7337877e",
    "execution_start": 1620808535660,
    "execution_millis": 9,
    "deepnote_cell_type": "code"
   },
   "outputs": [
    {
     "output_type": "stream",
     "name": "stdout",
     "text": [
      "Original array\n5 1 3 8 4 7 2 9 0 6 \nMergeSort array\n0 1 2 3 4 5 6 7 8 9 \n"
     ]
    }
   ],
   "execution_count": 5
  },
  {
   "cell_type": "code",
   "source": [
    "start = time()\n",
    "buble_sort(big_list)\n",
    "end = time()\n",
    "\n",
    "print(\"Buble took: \", end-start, \"s\")"
   ],
   "metadata": {
    "tags": [],
    "cell_id": "00008-57c0a185-d0e4-4db9-9fb1-27cc104e0ead",
    "deepnote_to_be_reexecuted": false,
    "source_hash": "d4e1ef78",
    "execution_start": 1620808607357,
    "execution_millis": 522,
    "deepnote_cell_type": "code"
   },
   "outputs": [
    {
     "output_type": "stream",
     "name": "stdout",
     "text": [
      "Buble took:  1.424954891204834 s\n"
     ]
    }
   ],
   "execution_count": 6
  },
  {
   "cell_type": "code",
   "source": [
    "start = time()\n",
    "strive_sort(big_list)\n",
    "end = time()\n",
    "\n",
    "print(\"Strive took: \", end-start, \"s\")"
   ],
   "metadata": {
    "tags": [],
    "cell_id": "00010-9c253176-a8d2-4331-8bac-0e66fb1a8eac",
    "deepnote_to_be_reexecuted": false,
    "source_hash": "194a9ec4",
    "execution_start": 1620808604183,
    "execution_millis": 753,
    "deepnote_cell_type": "code"
   },
   "outputs": [
    {
     "output_type": "stream",
     "name": "stdout",
     "text": [
      "Strive took:  2.1006269454956055 s\n"
     ]
    }
   ],
   "execution_count": 7
  },
  {
   "cell_type": "code",
   "source": [
    "start = time()\n",
    "quick_sort(0, len(big_list)-1,big_list)\n",
    "# print(big_list)\n",
    "end = time()\n",
    "\n",
    "print(\"QuickSort took: \", end-start, \"s\")"
   ],
   "metadata": {
    "tags": [],
    "cell_id": "00007-24914d80-acec-45fd-a9e9-54318a97f3ca",
    "deepnote_to_be_reexecuted": false,
    "source_hash": "c9531672",
    "execution_start": 1620808597276,
    "execution_millis": 807,
    "deepnote_cell_type": "code"
   },
   "outputs": [
    {
     "output_type": "stream",
     "name": "stdout",
     "text": [
      "QuickSort took:  2.335273265838623 s\n"
     ]
    }
   ],
   "execution_count": 8
  },
  {
   "cell_type": "code",
   "source": [
    "start = time()\n",
    "mergeSort(big_list)\n",
    "end = time()\n",
    "\n",
    "print(\"MergeSort took: \", end-start, \"s\")"
   ],
   "metadata": {
    "tags": [],
    "cell_id": "00011-7bab0584-8490-4efc-a3ab-d2f80c648ed1",
    "deepnote_to_be_reexecuted": false,
    "source_hash": "f00a736c",
    "execution_start": 1620808584846,
    "execution_millis": 29,
    "deepnote_cell_type": "code"
   },
   "outputs": [
    {
     "output_type": "stream",
     "name": "stdout",
     "text": [
      "MergeSort took:  0.06030011177062988 s\n"
     ]
    }
   ],
   "execution_count": 9
  },
  {
   "cell_type": "code",
   "execution_count": null,
   "metadata": {},
   "outputs": [],
   "source": []
  }
 ],
 "nbformat": 4,
 "nbformat_minor": 2,
 "metadata": {
  "orig_nbformat": 2,
  "deepnote": {
   "is_reactive": false
  },
  "deepnote_notebook_id": "bd2225e2-3101-4a09-8655-bbfb4219180e",
  "deepnote_execution_queue": [],
  "kernelspec": {
   "name": "python392jvsc74a57bd0aee8b7b246df8f9039afb4144a1f6fd8d2ca17a180786b69acc140d282b71a49",
   "display_name": "Python 3.9.2 64-bit"
  }
 }
}